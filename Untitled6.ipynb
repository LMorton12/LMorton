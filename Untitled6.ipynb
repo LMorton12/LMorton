{
  "nbformat": 4,
  "nbformat_minor": 0,
  "metadata": {
    "colab": {
      "provenance": [],
      "authorship_tag": "ABX9TyMvb8g2RguetLB876DtqYqQ",
      "include_colab_link": true
    },
    "kernelspec": {
      "name": "python3",
      "display_name": "Python 3"
    },
    "language_info": {
      "name": "python"
    }
  },
  "cells": [
    {
      "cell_type": "markdown",
      "metadata": {
        "id": "view-in-github",
        "colab_type": "text"
      },
      "source": [
        "<a href=\"https://colab.research.google.com/github/LMorton12/LMorton/blob/main/Untitled6.ipynb\" target=\"_parent\"><img src=\"https://colab.research.google.com/assets/colab-badge.svg\" alt=\"Open In Colab\"/></a>"
      ]
    },
    {
      "cell_type": "code",
      "execution_count": null,
      "metadata": {
        "id": "7GQ25Kb6_fZv"
      },
      "outputs": [],
      "source": [
        "# Prediction of Product Sales. \n",
        "   Latoya Morton\n",
        "## Project Overview\n",
        "## Load and Inspect Data\n",
        "## Clean Data\n",
        "## Exploratory Data Analysis\n",
        "## Explanatory Data Analysis"
      ]
    },
    {
      "cell_type": "code",
      "source": [
        "# Prediction of Product Sales.\n",
        "    Latoya Morton\n",
        "## Project Overview"
      ],
      "metadata": {
        "colab": {
          "base_uri": "https://localhost:8080/",
          "height": 130
        },
        "id": "vBfm2P_Qhc_7",
        "outputId": "c8f4ffc8-7315-4a78-f67f-c7eeb14df8e7"
      },
      "execution_count": 30,
      "outputs": [
        {
          "output_type": "error",
          "ename": "IndentationError",
          "evalue": "ignored",
          "traceback": [
            "\u001b[0;36m  File \u001b[0;32m\"<ipython-input-30-fbd7e2d2a889>\"\u001b[0;36m, line \u001b[0;32m2\u001b[0m\n\u001b[0;31m    Latoya Morton\u001b[0m\n\u001b[0m    ^\u001b[0m\n\u001b[0;31mIndentationError\u001b[0m\u001b[0;31m:\u001b[0m unexpected indent\n"
          ]
        }
      ]
    },
    {
      "cell_type": "code",
      "source": [
        "## Load and Inspect Data"
      ],
      "metadata": {
        "id": "tlkvqB7Sg0Ue"
      },
      "execution_count": 28,
      "outputs": []
    },
    {
      "cell_type": "code",
      "source": [
        "## Clean Data"
      ],
      "metadata": {
        "id": "9K3cCwfBg48V"
      },
      "execution_count": 25,
      "outputs": []
    },
    {
      "cell_type": "code",
      "source": [
        "## Exploratory Data Analysis"
      ],
      "metadata": {
        "id": "dWdlXauRg7Yl"
      },
      "execution_count": 26,
      "outputs": []
    },
    {
      "cell_type": "code",
      "source": [
        "## Explanatory Data Analysis\n",
        "\n"
      ],
      "metadata": {
        "id": "WGi-7D1ZhD6d"
      },
      "execution_count": 27,
      "outputs": []
    }
  ]
}