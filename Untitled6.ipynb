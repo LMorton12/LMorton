{
  "nbformat": 4,
  "nbformat_minor": 0,
  "metadata": {
    "colab": {
      "provenance": [],
      "authorship_tag": "ABX9TyN/kB5SK9tv6BPFjqpYVY5E",
      "include_colab_link": true
    },
    "kernelspec": {
      "name": "python3",
      "display_name": "Python 3"
    },
    "language_info": {
      "name": "python"
    }
  },
  "cells": [
    {
      "cell_type": "markdown",
      "metadata": {
        "id": "view-in-github",
        "colab_type": "text"
      },
      "source": [
        "<a href=\"https://colab.research.google.com/github/LMorton12/LMorton/blob/main/Untitled6.ipynb\" target=\"_parent\"><img src=\"https://colab.research.google.com/assets/colab-badge.svg\" alt=\"Open In Colab\"/></a>"
      ]
    },
    {
      "cell_type": "code",
      "execution_count": null,
      "metadata": {
        "id": "7GQ25Kb6_fZv"
      },
      "outputs": [],
      "source": [
        "# Prediction of Product Sales. \n",
        "   Latoya Morton\n",
        "## Project Overview\n",
        "## Load and Inspect Data\n",
        "## Clean Data\n",
        "## Exploratory Data Analysis\n",
        "## Explanatory Data Analysis"
      ]
    },
    {
      "cell_type": "code",
      "source": [
        "# Prediction of Product Sales.\n",
        " Latoya Morton\n",
        "## Project Overview"
      ],
      "metadata": {
        "id": "vBfm2P_Qhc_7"
      },
      "execution_count": null,
      "outputs": []
    },
    {
      "cell_type": "code",
      "source": [
        "## Load and Inspect Data"
      ],
      "metadata": {
        "id": "tlkvqB7Sg0Ue"
      },
      "execution_count": 28,
      "outputs": []
    },
    {
      "cell_type": "code",
      "source": [
        "## Clean Data"
      ],
      "metadata": {
        "id": "9K3cCwfBg48V"
      },
      "execution_count": 25,
      "outputs": []
    },
    {
      "cell_type": "code",
      "source": [
        "## Exploratory Data Analysis"
      ],
      "metadata": {
        "id": "dWdlXauRg7Yl"
      },
      "execution_count": 26,
      "outputs": []
    },
    {
      "cell_type": "code",
      "source": [
        "## Explanatory Data Analysis\n",
        "\n"
      ],
      "metadata": {
        "id": "WGi-7D1ZhD6d"
      },
      "execution_count": 27,
      "outputs": []
    }
  ]
}