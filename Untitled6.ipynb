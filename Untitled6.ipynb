{
  "nbformat": 4,
  "nbformat_minor": 0,
  "metadata": {
    "colab": {
      "provenance": [],
      "authorship_tag": "ABX9TyMpVh0lPYL8hsQmsKuz+Ezj",
      "include_colab_link": true
    },
    "kernelspec": {
      "name": "python3",
      "display_name": "Python 3"
    },
    "language_info": {
      "name": "python"
    }
  },
  "cells": [
    {
      "cell_type": "markdown",
      "metadata": {
        "id": "view-in-github",
        "colab_type": "text"
      },
      "source": [
        "<a href=\"https://colab.research.google.com/github/LMorton12/LMorton/blob/main/Untitled6.ipynb\" target=\"_parent\"><img src=\"https://colab.research.google.com/assets/colab-badge.svg\" alt=\"Open In Colab\"/></a>"
      ]
    },
    {
      "cell_type": "code",
      "execution_count": null,
      "metadata": {
        "id": "7GQ25Kb6_fZv"
      },
      "outputs": [],
      "source": [
        "# Prediction of Product Sales. \n",
        "  -Latoya Morton\n",
        "## Project Overview\n",
        "## Load and Inspect Data\n",
        "## Clean Data\n",
        "## Exploratory Data Analysis\n",
        "## Explanatory Data Analysis"
      ]
    }
  ]
}